{
 "cells": [
  {
   "cell_type": "code",
   "execution_count": 23,
   "metadata": {},
   "outputs": [],
   "source": [
    "from statistics import NormalDist\n",
    "import math\n",
    "from scipy.optimize import fmin"
   ]
  },
  {
   "cell_type": "code",
   "execution_count": 19,
   "metadata": {},
   "outputs": [],
   "source": [
    "def blackScholes(isCall, divYield, spotPrice, strike, rf, t, sigma):\n",
    "    d1 = ((math.log(spotPrice/strike) + (t * (rf + ((sigma**2) / 2)))) / (sigma * (math.sqrt(t))))\n",
    "    d2 = d1 - (sigma * math.sqrt(t))\n",
    "    Seqt = spotPrice * math.pow(math.e, -divYield * t)\n",
    "    Kert = strike * math.pow(math.e, (-rf * t))\n",
    "    if isCall:\n",
    "        N1 = NormalDist(0,1).cdf(d1)\n",
    "        N2 = NormalDist(0,1).cdf(d2)\n",
    "        C = (N1 * Seqt) - (N2 * Kert)\n",
    "        return C\n",
    "    else:\n",
    "        N1 = NormalDist(0,1).cdf(-d1)\n",
    "        N2 = NormalDist(0,1).cdf(-d2)\n",
    "        P = (N2 * Kert) - (Seqt * N1)\n",
    "        return P\n",
    "    \n",
    "    "
   ]
  },
  {
   "cell_type": "code",
   "execution_count": null,
   "metadata": {},
   "outputs": [],
   "source": [
    "blackScholes(True, 0.0, 98.5, 105, 0.06, 0.238, 0.3)"
   ]
  },
  {
   "cell_type": "code",
   "execution_count": null,
   "metadata": {},
   "outputs": [],
   "source": [
    "blackScholes(False, 0.0, 98.5, 105, 0.06, 0.238, 0.3)"
   ]
  },
  {
   "cell_type": "code",
   "execution_count": 47,
   "metadata": {},
   "outputs": [
    {
     "name": "stdout",
     "output_type": "stream",
     "text": [
      "Optimization terminated successfully.\n",
      "         Current function value: 0.000000\n",
      "         Iterations: 14\n",
      "         Function evaluations: 28\n",
      "Optimization terminated successfully.\n",
      "         Current function value: 0.000000\n",
      "         Iterations: 14\n",
      "         Function evaluations: 28\n",
      "[0.46019531] [0.48439453]\n"
     ]
    }
   ],
   "source": [
    "import numpy as np\n",
    "import scipy.stats as si\n",
    "spotPrice = 60\n",
    "strikePrice = 65\n",
    "rf = 0.08\n",
    "time = 0.25\n",
    "putPrice = 8\n",
    "callPrice = 4\n",
    "\n",
    "def NORMSDIST(x):\n",
    "    NORMSDIST = si.norm.cdf(x,0.0,1.0)\n",
    "    return(NORMSDIST)\n",
    "\n",
    "def ImpliedVolatilityCall(s):\n",
    "    d1 = ( (np.log(spotPrice/strikePrice)+(rf+0.5*s[0]**2)*time) / (s[0]*np.sqrt(time)) )\n",
    "    d2 = ( (np.log(spotPrice/strikePrice)+(rf-0.5*s[0]**2)*time) / (s[0]*np.sqrt(time)) )\n",
    "    of = (  spotPrice*NORMSDIST(d1) - strikePrice*np.exp(-rf*time)*NORMSDIST(d2) ) - callPrice\n",
    "    val = of**2\n",
    "    return(val)\n",
    "\n",
    "def ImpliedVolatilityPut(s):\n",
    "    d1 = ( (np.log(spotPrice/strikePrice)+(rf+0.5*s[0]**2)*time) / (s[0]*np.sqrt(time)) )\n",
    "    d2 = ( (np.log(spotPrice/strikePrice)+(rf-0.5*s[0]**2)*time) / (s[0]*np.sqrt(time)) )\n",
    "    of = (  strikePrice*np.exp(-rf*time)*NORMSDIST(-d2) - spotPrice*NORMSDIST(-d1) ) - putPrice\n",
    "    val = of**2\n",
    "    return(val)\n",
    "\n",
    "print(fmin(ImpliedVolatilityCall, [0.3]), fmin(ImpliedVolatilityPut, [0.3]))"
   ]
  },
  {
   "cell_type": "code",
   "execution_count": null,
   "metadata": {},
   "outputs": [],
   "source": []
  }
 ],
 "metadata": {
  "kernelspec": {
   "display_name": "Python 3",
   "language": "python",
   "name": "python3"
  },
  "language_info": {
   "codemirror_mode": {
    "name": "ipython",
    "version": 3
   },
   "file_extension": ".py",
   "mimetype": "text/x-python",
   "name": "python",
   "nbconvert_exporter": "python",
   "pygments_lexer": "ipython3",
   "version": "3.11.5"
  }
 },
 "nbformat": 4,
 "nbformat_minor": 2
}
